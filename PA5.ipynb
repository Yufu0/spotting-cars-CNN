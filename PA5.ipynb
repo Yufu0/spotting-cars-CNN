{
 "cells": [
  {
   "cell_type": "code",
   "execution_count": 1,
   "metadata": {
    "collapsed": true
   },
   "outputs": [],
   "source": [
    "import tensorflow as tf\n",
    "import numpy as np"
   ]
  },
  {
   "cell_type": "markdown",
   "source": [
    "## Loading data"
   ],
   "metadata": {
    "collapsed": false
   }
  },
  {
   "cell_type": "code",
   "execution_count": 2,
   "outputs": [],
   "source": [
    "from tensorflow.keras.preprocessing.image import ImageDataGenerator\n",
    "\n",
    "data_gen = ImageDataGenerator(rescale=1.0/255)"
   ],
   "metadata": {
    "collapsed": false
   }
  },
  {
   "cell_type": "code",
   "execution_count": 3,
   "outputs": [
    {
     "name": "stdout",
     "output_type": "stream",
     "text": [
      "Found 1600 images belonging to 2 classes.\n"
     ]
    }
   ],
   "source": [
    "# directory\n",
    "imgdir = 'a5_images'\n",
    "img_size = 64\n",
    "batch_size = 32\n",
    "\n",
    "train_generator = data_gen.flow_from_directory(\n",
    "        imgdir + '/train',\n",
    "        target_size=(img_size, img_size),\n",
    "        batch_size=batch_size,\n",
    "        class_mode='binary',\n",
    "        classes=['other', 'car'],\n",
    "        seed=12345,\n",
    "        shuffle=True)"
   ],
   "metadata": {
    "collapsed": false
   }
  },
  {
   "cell_type": "code",
   "execution_count": 4,
   "outputs": [],
   "source": [
    "Xbatch, Ybatch = train_generator.next()"
   ],
   "metadata": {
    "collapsed": false
   }
  },
  {
   "cell_type": "code",
   "execution_count": 5,
   "outputs": [
    {
     "data": {
      "text/plain": "(32, 64, 64, 3)"
     },
     "execution_count": 5,
     "metadata": {},
     "output_type": "execute_result"
    }
   ],
   "source": [
    "Xbatch.shape"
   ],
   "metadata": {
    "collapsed": false
   }
  },
  {
   "cell_type": "code",
   "execution_count": 6,
   "outputs": [
    {
     "data": {
      "text/plain": "1.0"
     },
     "execution_count": 6,
     "metadata": {},
     "output_type": "execute_result"
    }
   ],
   "source": [
    "Ybatch[4]"
   ],
   "metadata": {
    "collapsed": false
   }
  },
  {
   "cell_type": "code",
   "execution_count": 7,
   "outputs": [
    {
     "data": {
      "text/plain": "<Figure size 640x480 with 1 Axes>",
      "image/png": "[encoded data removed]"
     },
     "metadata": {},
     "output_type": "display_data"
    }
   ],
   "source": [
    "from matplotlib import pyplot as plt\n",
    "\n",
    "plt.imshow(Xbatch[4]);"
   ],
   "metadata": {
    "collapsed": false
   }
  },
  {
   "cell_type": "code",
   "execution_count": 8,
   "outputs": [
    {
     "name": "stdout",
     "output_type": "stream",
     "text": [
      "Found 576 images belonging to 2 classes.\n"
     ]
    }
   ],
   "source": [
    "validation_generator = data_gen.flow_from_directory(\n",
    "        imgdir + '/validation',\n",
    "        target_size=(img_size, img_size),\n",
    "        batch_size=batch_size,\n",
    "        class_mode='binary',\n",
    "        classes=['other', 'car'],\n",
    "        seed=12345,\n",
    "        shuffle=True)"
   ],
   "metadata": {
    "collapsed": false
   }
  },
  {
   "cell_type": "markdown",
   "source": [
    "## Part 1: Training a convolutional neural network"
   ],
   "metadata": {
    "collapsed": false
   }
  },
  {
   "cell_type": "code",
   "execution_count": 25,
   "outputs": [],
   "source": [
    "from tensorflow.keras import datasets, layers, models\n",
    "\n",
    "def make_convnet():\n",
    "    model = models.Sequential()\n",
    "    model.add(layers.Conv2D(32, (3, 3), activation='relu', input_shape=(64, 64, 3), padding=\"same\"))\n",
    "    model.add(layers.MaxPooling2D((2, 2)))\n",
    "    model.add(layers.Conv2D(64, (3, 3), activation='relu', padding=\"same\"))\n",
    "    model.add(layers.MaxPooling2D((2, 2)))\n",
    "    model.add(layers.Conv2D(64, (3, 3), activation='relu', padding=\"same\"))\n",
    "    model.add(layers.MaxPooling2D((2, 2)))\n",
    "    model.add(layers.Flatten())\n",
    "    model.add(layers.Dense(64, activation='relu'))\n",
    "    model.add(layers.Dropout(rate=0.5))\n",
    "    model.add(layers.Dense(64, activation='relu'))\n",
    "    model.add(layers.Dropout(rate=0.5))\n",
    "    model.add(layers.Dense(1, activation='sigmoid'))\n",
    "\n",
    "    model.compile(optimizer='adam',\n",
    "              loss='binary_crossentropy',\n",
    "              metrics=['accuracy'])\n",
    "    return model"
   ],
   "metadata": {
    "collapsed": false
   }
  },
  {
   "cell_type": "code",
   "execution_count": 26,
   "outputs": [
    {
     "name": "stdout",
     "output_type": "stream",
     "text": [
      "Model: \"sequential_4\"\n",
      "_________________________________________________________________\n",
      " Layer (type)                Output Shape              Param #   \n",
      "=================================================================\n",
      " conv2d_12 (Conv2D)          (None, 64, 64, 32)        896       \n",
      "                                                                 \n",
      " max_pooling2d_12 (MaxPoolin  (None, 32, 32, 32)       0         \n",
      " g2D)                                                            \n",
      "                                                                 \n",
      " conv2d_13 (Conv2D)          (None, 32, 32, 64)        18496     \n",
      "                                                                 \n",
      " max_pooling2d_13 (MaxPoolin  (None, 16, 16, 64)       0         \n",
      " g2D)                                                            \n",
      "                                                                 \n",
      " conv2d_14 (Conv2D)          (None, 16, 16, 64)        36928     \n",
      "                                                                 \n",
      " max_pooling2d_14 (MaxPoolin  (None, 8, 8, 64)         0         \n",
      " g2D)                                                            \n",
      "                                                                 \n",
      " flatten_4 (Flatten)         (None, 4096)              0         \n",
      "                                                                 \n",
      " dense_9 (Dense)             (None, 64)                262208    \n",
      "                                                                 \n",
      " dropout_5 (Dropout)         (None, 64)                0         \n",
      "                                                                 \n",
      " dense_10 (Dense)            (None, 64)                4160      \n",
      "                                                                 \n",
      " dropout_6 (Dropout)         (None, 64)                0         \n",
      "                                                                 \n",
      " dense_11 (Dense)            (None, 1)                 65        \n",
      "                                                                 \n",
      "=================================================================\n",
      "Total params: 322,753\n",
      "Trainable params: 322,753\n",
      "Non-trainable params: 0\n",
      "_________________________________________________________________\n"
     ]
    }
   ],
   "source": [
    "model = make_convnet()\n",
    "model.summary()"
   ],
   "metadata": {
    "collapsed": false
   }
  },
  {
   "cell_type": "code",
   "execution_count": 27,
   "outputs": [
    {
     "name": "stdout",
     "output_type": "stream",
     "text": [
      "Epoch 1/15\n",
      "50/50 [==============================] - 12s 222ms/step - loss: 0.6853 - accuracy: 0.5650 - val_loss: 0.6427 - val_accuracy: 0.6406\n",
      "Epoch 2/15\n",
      "50/50 [==============================] - 8s 168ms/step - loss: 0.6224 - accuracy: 0.6769 - val_loss: 0.5439 - val_accuracy: 0.7240\n",
      "Epoch 3/15\n",
      "50/50 [==============================] - 8s 162ms/step - loss: 0.5163 - accuracy: 0.7575 - val_loss: 0.5048 - val_accuracy: 0.7639\n",
      "Epoch 4/15\n",
      "50/50 [==============================] - 8s 161ms/step - loss: 0.4770 - accuracy: 0.7875 - val_loss: 0.4590 - val_accuracy: 0.7882\n",
      "Epoch 5/15\n",
      "50/50 [==============================] - 8s 159ms/step - loss: 0.4244 - accuracy: 0.8169 - val_loss: 0.4744 - val_accuracy: 0.7847\n",
      "Epoch 6/15\n",
      "50/50 [==============================] - 8s 159ms/step - loss: 0.3876 - accuracy: 0.8325 - val_loss: 0.5178 - val_accuracy: 0.7812\n",
      "Epoch 7/15\n",
      "50/50 [==============================] - 9s 175ms/step - loss: 0.3620 - accuracy: 0.8494 - val_loss: 0.4785 - val_accuracy: 0.7899\n",
      "Epoch 8/15\n",
      "50/50 [==============================] - 8s 164ms/step - loss: 0.3279 - accuracy: 0.8594 - val_loss: 0.4876 - val_accuracy: 0.7951\n",
      "Epoch 9/15\n",
      "50/50 [==============================] - 8s 162ms/step - loss: 0.3010 - accuracy: 0.8819 - val_loss: 0.4427 - val_accuracy: 0.8142\n",
      "Epoch 10/15\n",
      "50/50 [==============================] - 8s 165ms/step - loss: 0.2623 - accuracy: 0.8900 - val_loss: 0.5129 - val_accuracy: 0.7778\n",
      "Epoch 11/15\n",
      "50/50 [==============================] - 9s 171ms/step - loss: 0.2660 - accuracy: 0.8906 - val_loss: 0.5147 - val_accuracy: 0.7865\n",
      "Epoch 12/15\n",
      "50/50 [==============================] - 9s 176ms/step - loss: 0.2286 - accuracy: 0.9112 - val_loss: 0.5048 - val_accuracy: 0.7795\n",
      "Epoch 13/15\n",
      "50/50 [==============================] - 9s 173ms/step - loss: 0.2252 - accuracy: 0.9125 - val_loss: 0.5930 - val_accuracy: 0.7847\n",
      "Epoch 14/15\n",
      "50/50 [==============================] - 8s 167ms/step - loss: 0.1628 - accuracy: 0.9413 - val_loss: 0.6021 - val_accuracy: 0.8003\n",
      "Epoch 15/15\n",
      "50/50 [==============================] - 8s 166ms/step - loss: 0.1420 - accuracy: 0.9519 - val_loss: 0.6096 - val_accuracy: 0.8056\n"
     ]
    }
   ],
   "source": [
    "nb_epochs = 15\n",
    "\n",
    "history = model.fit(\n",
    "    train_generator,\n",
    "    steps_per_epoch = train_generator.samples // batch_size,\n",
    "    validation_data = validation_generator,\n",
    "    validation_steps = validation_generator.samples // batch_size,\n",
    "    epochs = nb_epochs)"
   ],
   "metadata": {
    "collapsed": false
   }
  },
  {
   "cell_type": "code",
   "execution_count": 28,
   "outputs": [
    {
     "data": {
      "text/plain": "<matplotlib.legend.Legend at 0x2370c3c1c40>"
     },
     "execution_count": 28,
     "metadata": {},
     "output_type": "execute_result"
    },
    {
     "data": {
      "text/plain": "<Figure size 640x480 with 1 Axes>",
      "image/png": "[encoded data removed]"
     },
     "metadata": {},
     "output_type": "display_data"
    }
   ],
   "source": [
    "plt.plot(history.history['accuracy'], label='accuracy')\n",
    "plt.plot(history.history['val_accuracy'], label = 'val_accuracy')\n",
    "plt.xlabel('Epoch')\n",
    "plt.ylabel('Accuracy')\n",
    "plt.ylim([0.5, 1])\n",
    "plt.legend(loc='lower right')"
   ],
   "metadata": {
    "collapsed": false
   }
  },
  {
   "cell_type": "code",
   "execution_count": 15,
   "outputs": [],
   "source": [
    "model.save_weights(\"my_model_PA5\")"
   ],
   "metadata": {
    "collapsed": false
   }
  },
  {
   "cell_type": "markdown",
   "source": [
    "## Part 2: Data augmentation"
   ],
   "metadata": {
    "collapsed": false
   }
  },
  {
   "cell_type": "code",
   "execution_count": 35,
   "outputs": [],
   "source": [
    "data_augmentation_gen = ImageDataGenerator(\n",
    "    rescale=1.0/255,\n",
    "    rotation_range=20,\n",
    "    width_shift_range=0.2,\n",
    "    height_shift_range=0.2,\n",
    "    brightness_range=[0.5,1.5],\n",
    "    zoom_range=0.2,\n",
    "    channel_shift_range=0.0,\n",
    "    fill_mode='nearest',\n",
    "    horizontal_flip=True\n",
    ")"
   ],
   "metadata": {
    "collapsed": false
   }
  },
  {
   "cell_type": "code",
   "execution_count": 36,
   "outputs": [
    {
     "name": "stdout",
     "output_type": "stream",
     "text": [
      "Found 1600 images belonging to 2 classes.\n"
     ]
    }
   ],
   "source": [
    "train_generator_augmentation = data_augmentation_gen.flow_from_directory(\n",
    "        imgdir + '/train',\n",
    "        target_size=(img_size, img_size),\n",
    "        batch_size=batch_size,\n",
    "        class_mode='binary',\n",
    "        classes=['other', 'car'],\n",
    "        seed=12345,\n",
    "        shuffle=True)"
   ],
   "metadata": {
    "collapsed": false
   }
  },
  {
   "cell_type": "code",
   "execution_count": 39,
   "outputs": [
    {
     "name": "stdout",
     "output_type": "stream",
     "text": [
      "50/50 [==============================] - 11s 226ms/step - loss: 0.6778 - accuracy: 0.5869 - val_loss: 0.6651 - val_accuracy: 0.6719\n",
      "Epoch 3/15\n",
      "50/50 [==============================] - 10s 202ms/step - loss: 0.6462 - accuracy: 0.6363 - val_loss: 0.6346 - val_accuracy: 0.6545\n",
      "Epoch 4/15\n",
      "50/50 [==============================] - 10s 199ms/step - loss: 0.6120 - accuracy: 0.6794 - val_loss: 0.5996 - val_accuracy: 0.6771\n",
      "Epoch 5/15\n",
      "50/50 [==============================] - 10s 200ms/step - loss: 0.5695 - accuracy: 0.7175 - val_loss: 0.5310 - val_accuracy: 0.7535\n",
      "Epoch 6/15\n",
      "50/50 [==============================] - 10s 198ms/step - loss: 0.5734 - accuracy: 0.7138 - val_loss: 0.5375 - val_accuracy: 0.7465\n",
      "Epoch 7/15\n",
      "50/50 [==============================] - 10s 195ms/step - loss: 0.5370 - accuracy: 0.7469 - val_loss: 0.5001 - val_accuracy: 0.7743\n",
      "Epoch 8/15\n",
      "50/50 [==============================] - 10s 199ms/step - loss: 0.5367 - accuracy: 0.7538 - val_loss: 0.5042 - val_accuracy: 0.7847\n",
      "Epoch 9/15\n",
      "50/50 [==============================] - 10s 204ms/step - loss: 0.5116 - accuracy: 0.7619 - val_loss: 0.4788 - val_accuracy: 0.7847\n",
      "Epoch 10/15\n",
      "50/50 [==============================] - 10s 201ms/step - loss: 0.5134 - accuracy: 0.7606 - val_loss: 0.4795 - val_accuracy: 0.7778\n",
      "Epoch 11/15\n",
      "50/50 [==============================] - 10s 202ms/step - loss: 0.5217 - accuracy: 0.7575 - val_loss: 0.4762 - val_accuracy: 0.7812\n",
      "Epoch 12/15\n",
      "50/50 [==============================] - 10s 197ms/step - loss: 0.5065 - accuracy: 0.7550 - val_loss: 0.4892 - val_accuracy: 0.7778\n",
      "Epoch 13/15\n",
      "50/50 [==============================] - 10s 198ms/step - loss: 0.4863 - accuracy: 0.7700 - val_loss: 0.5163 - val_accuracy: 0.7639\n",
      "Epoch 14/15\n",
      "50/50 [==============================] - 10s 202ms/step - loss: 0.4864 - accuracy: 0.7800 - val_loss: 0.4857 - val_accuracy: 0.7743\n",
      "Epoch 15/15\n",
      "50/50 [==============================] - 10s 196ms/step - loss: 0.4709 - accuracy: 0.7744 - val_loss: 0.4730 - val_accuracy: 0.7830\n",
      "Epoch 1/30\n",
      "50/50 [==============================] - 11s 201ms/step - loss: 0.6974 - accuracy: 0.5081 - val_loss: 0.6850 - val_accuracy: 0.5000\n",
      "Epoch 2/30\n",
      "50/50 [==============================] - 10s 197ms/step - loss: 0.6806 - accuracy: 0.5694 - val_loss: 0.6855 - val_accuracy: 0.5677\n",
      "Epoch 3/30\n",
      "50/50 [==============================] - 10s 199ms/step - loss: 0.6538 - accuracy: 0.6350 - val_loss: 0.6724 - val_accuracy: 0.5938\n",
      "Epoch 4/30\n",
      "50/50 [==============================] - 10s 195ms/step - loss: 0.6277 - accuracy: 0.6712 - val_loss: 0.5758 - val_accuracy: 0.7326\n",
      "Epoch 5/30\n",
      "50/50 [==============================] - 11s 219ms/step - loss: 0.6011 - accuracy: 0.6906 - val_loss: 0.5612 - val_accuracy: 0.7257\n",
      "Epoch 6/30\n",
      "50/50 [==============================] - 10s 207ms/step - loss: 0.5744 - accuracy: 0.7138 - val_loss: 0.5452 - val_accuracy: 0.7292\n",
      "Epoch 7/30\n",
      "50/50 [==============================] - 11s 211ms/step - loss: 0.5443 - accuracy: 0.7281 - val_loss: 0.5321 - val_accuracy: 0.7604\n",
      "Epoch 8/30\n",
      "50/50 [==============================] - 11s 210ms/step - loss: 0.5286 - accuracy: 0.7431 - val_loss: 0.5169 - val_accuracy: 0.7639\n",
      "Epoch 9/30\n",
      "50/50 [==============================] - 10s 197ms/step - loss: 0.5243 - accuracy: 0.7644 - val_loss: 0.5318 - val_accuracy: 0.7656\n",
      "Epoch 10/30\n",
      "50/50 [==============================] - 10s 203ms/step - loss: 0.5177 - accuracy: 0.7544 - val_loss: 0.5084 - val_accuracy: 0.7622\n",
      "Epoch 11/30\n",
      "50/50 [==============================] - 10s 201ms/step - loss: 0.5170 - accuracy: 0.7550 - val_loss: 0.4944 - val_accuracy: 0.7622\n",
      "Epoch 12/30\n",
      "50/50 [==============================] - 10s 198ms/step - loss: 0.5003 - accuracy: 0.7619 - val_loss: 0.4831 - val_accuracy: 0.7899\n",
      "Epoch 13/30\n",
      "50/50 [==============================] - 10s 204ms/step - loss: 0.4758 - accuracy: 0.7831 - val_loss: 0.4722 - val_accuracy: 0.7899\n",
      "Epoch 14/30\n",
      "50/50 [==============================] - 11s 211ms/step - loss: 0.4897 - accuracy: 0.7744 - val_loss: 0.4776 - val_accuracy: 0.7847\n",
      "Epoch 15/30\n",
      "50/50 [==============================] - 10s 200ms/step - loss: 0.4749 - accuracy: 0.7750 - val_loss: 0.4955 - val_accuracy: 0.7812\n",
      "Epoch 16/30\n",
      "50/50 [==============================] - 10s 197ms/step - loss: 0.4742 - accuracy: 0.7788 - val_loss: 0.4716 - val_accuracy: 0.7969\n",
      "Epoch 17/30\n",
      "50/50 [==============================] - 10s 201ms/step - loss: 0.4661 - accuracy: 0.7887 - val_loss: 0.4598 - val_accuracy: 0.8021\n",
      "Epoch 18/30\n",
      "50/50 [==============================] - 11s 214ms/step - loss: 0.4775 - accuracy: 0.7812 - val_loss: 0.4882 - val_accuracy: 0.7847\n",
      "Epoch 19/30\n",
      "50/50 [==============================] - 13s 254ms/step - loss: 0.4466 - accuracy: 0.7850 - val_loss: 0.5484 - val_accuracy: 0.7708\n",
      "Epoch 20/30\n",
      "50/50 [==============================] - 14s 273ms/step - loss: 0.4676 - accuracy: 0.7769 - val_loss: 0.4660 - val_accuracy: 0.8038\n",
      "Epoch 21/30\n",
      "50/50 [==============================] - 10s 201ms/step - loss: 0.4624 - accuracy: 0.7850 - val_loss: 0.4559 - val_accuracy: 0.8003\n",
      "Epoch 22/30\n",
      "50/50 [==============================] - 12s 232ms/step - loss: 0.4402 - accuracy: 0.8025 - val_loss: 0.4894 - val_accuracy: 0.7812\n",
      "Epoch 23/30\n",
      "50/50 [==============================] - 11s 228ms/step - loss: 0.4358 - accuracy: 0.8075 - val_loss: 0.4594 - val_accuracy: 0.8003\n",
      "Epoch 24/30\n",
      "50/50 [==============================] - 11s 217ms/step - loss: 0.4417 - accuracy: 0.7944 - val_loss: 0.4467 - val_accuracy: 0.8038\n",
      "Epoch 25/30\n",
      "50/50 [==============================] - 12s 243ms/step - loss: 0.4311 - accuracy: 0.8037 - val_loss: 0.4609 - val_accuracy: 0.8056\n",
      "Epoch 26/30\n",
      "50/50 [==============================] - 11s 218ms/step - loss: 0.4321 - accuracy: 0.8006 - val_loss: 0.4641 - val_accuracy: 0.8021\n",
      "Epoch 27/30\n",
      "50/50 [==============================] - 11s 220ms/step - loss: 0.4132 - accuracy: 0.8106 - val_loss: 0.4490 - val_accuracy: 0.8021\n",
      "Epoch 28/30\n",
      "50/50 [==============================] - 11s 220ms/step - loss: 0.4240 - accuracy: 0.8025 - val_loss: 0.4351 - val_accuracy: 0.8108\n",
      "Epoch 29/30\n",
      "50/50 [==============================] - 11s 219ms/step - loss: 0.4093 - accuracy: 0.8112 - val_loss: 0.4594 - val_accuracy: 0.7934\n",
      "Epoch 30/30\n",
      "50/50 [==============================] - 11s 223ms/step - loss: 0.4260 - accuracy: 0.8125 - val_loss: 0.4597 - val_accuracy: 0.8003\n"
     ]
    }
   ],
   "source": [
    "model = make_convnet()\n",
    "\n",
    "history = model.fit(\n",
    "    train_generator_augmentation,\n",
    "    steps_per_epoch = train_generator.samples // batch_size,\n",
    "    validation_data = validation_generator,\n",
    "    validation_steps = validation_generator.samples // batch_size,\n",
    "    epochs = nb_epochs)"
   ],
   "metadata": {
    "collapsed": false
   }
  },
  {
   "cell_type": "markdown",
   "source": [
    "## Applying a pre-trained convolutional neural network"
   ],
   "metadata": {
    "collapsed": false
   }
  },
  {
   "cell_type": "code",
   "execution_count": 40,
   "outputs": [],
   "source": [
    "from tensorflow.keras import applications\n",
    "from tensorflow.keras.preprocessing.image import load_img, img_to_array\n",
    "from tensorflow.keras.applications.vgg16 import decode_predictions, preprocess_input\n",
    "\n",
    "vggmodel = applications.VGG16(weights='imagenet', include_top=True)"
   ],
   "metadata": {
    "collapsed": false
   }
  },
  {
   "cell_type": "code",
   "execution_count": 43,
   "outputs": [],
   "source": [
    "image = load_img(\"a5_images/validation/car/0000.jpg\", target_size=(224,224))\n",
    "\n",
    "image = img_to_array(image)\n",
    "\n",
    "image = preprocess_input(image)\n",
    "\n",
    "image = image.reshape(1, 224, 224, 3)"
   ],
   "metadata": {
    "collapsed": false
   }
  },
  {
   "cell_type": "code",
   "execution_count": 45,
   "outputs": [
    {
     "name": "stdout",
     "output_type": "stream",
     "text": [
      "1/1 [==============================] - 0s 208ms/step\n",
      "[[('n03594945', 'jeep', 0.92140687), ('n04252225', 'snowplow', 0.024327194), ('n03445924', 'golfcart', 0.014407215), ('n03930630', 'pickup', 0.012664959), ('n03478589', 'half_track', 0.005270822)]]\n"
     ]
    }
   ],
   "source": [
    "prediction = vggmodel.predict(image)\n",
    "\n",
    "prediction = decode_predictions(prediction)\n",
    "print(prediction)"
   ],
   "metadata": {
    "collapsed": false
   }
  },
  {
   "cell_type": "markdown",
   "source": [
    "## Part 3: Using VGG-16 as a feature extractor"
   ],
   "metadata": {
    "collapsed": false
   }
  },
  {
   "cell_type": "code",
   "execution_count": 16,
   "outputs": [
    {
     "name": "stdout",
     "output_type": "stream",
     "text": [
      "Downloading data from https://storage.googleapis.com/tensorflow/keras-applications/vgg16/vgg16_weights_tf_dim_ordering_tf_kernels_notop.h5\n",
      "58889256/58889256 [==============================] - 5s 0us/step\n"
     ]
    }
   ],
   "source": [
    "feature_extractor = applications.VGG16(include_top=False, weights='imagenet',\n",
    "                                       input_shape=(img_size, img_size, 3))"
   ],
   "metadata": {
    "collapsed": false
   }
  },
  {
   "cell_type": "code",
   "execution_count": null,
   "outputs": [],
   "source": [
    "vgg_data_gen = ImageDataGenerator(preprocessing_function=preprocess_input)"
   ],
   "metadata": {
    "collapsed": false
   }
  },
  {
   "cell_type": "code",
   "execution_count": null,
   "outputs": [],
   "source": [
    "def create_vgg16_features():"
   ],
   "metadata": {
    "collapsed": false
   }
  },
  {
   "cell_type": "code",
   "execution_count": 17,
   "outputs": [],
   "source": [
    "def get_labels(n):\n",
    "    return np.array([0]*(n//2) + [1]*(n//2))"
   ],
   "metadata": {
    "collapsed": false
   }
  },
  {
   "cell_type": "markdown",
   "source": [
    "## Part 4: Visualizing the learned features"
   ],
   "metadata": {
    "collapsed": false
   }
  },
  {
   "cell_type": "code",
   "execution_count": 18,
   "outputs": [
    {
     "data": {
      "text/plain": "(3, 3, 3, 64)"
     },
     "execution_count": 18,
     "metadata": {},
     "output_type": "execute_result"
    }
   ],
   "source": [
    "first_layer_weights = vggmodel.get_weights()[0]\n",
    "first_layer_weights.shape"
   ],
   "metadata": {
    "collapsed": false
   }
  },
  {
   "cell_type": "code",
   "execution_count": 19,
   "outputs": [],
   "source": [
    "def kernel_image(weights, i, positive):\n",
    "\n",
    "    # extract the convolutional kernel at position i\n",
    "    k = weights[:,:,:,i].copy()\n",
    "    if not positive:\n",
    "        k = -k\n",
    "\n",
    "    # clip the values: if we're looking for positive\n",
    "    # values, just keep the positive part; vice versa\n",
    "    # for the negative values.\n",
    "    k *= k > 0\n",
    "\n",
    "    # rescale the colors, to make the images less dark\n",
    "    m = k.max()\n",
    "    if m > 1e-3:\n",
    "        k /= m\n",
    "\n",
    "    return k"
   ],
   "metadata": {
    "collapsed": false
   }
  },
  {
   "cell_type": "code",
   "execution_count": 36,
   "outputs": [
    {
     "data": {
      "text/plain": "<Figure size 1000x1000 with 64 Axes>",
      "image/png": "[encoded data removed]"
     },
     "metadata": {},
     "output_type": "display_data"
    }
   ],
   "source": [
    "plt.figure(figsize=(10,10))\n",
    "for i in range(first_layer_weights.shape[3]):\n",
    "    plt.subplot(8,8,i+1)\n",
    "    plt.xticks([])\n",
    "    plt.yticks([])\n",
    "    plt.grid(False)\n",
    "    plt.imshow(kernel_image(first_layer_weights, i, True))\n",
    "plt.show()"
   ],
   "metadata": {
    "collapsed": false
   }
  },
  {
   "cell_type": "code",
   "execution_count": null,
   "outputs": [],
   "source": [],
   "metadata": {
    "collapsed": false
   }
  },
  {
   "cell_type": "code",
   "execution_count": 29,
   "outputs": [],
   "source": [],
   "metadata": {
    "collapsed": false
   }
  }
 ],
 "metadata": {
  "kernelspec": {
   "display_name": "Python 3",
   "language": "python",
   "name": "python3"
  },
  "language_info": {
   "codemirror_mode": {
    "name": "ipython",
    "version": 2
   },
   "file_extension": ".py",
   "mimetype": "text/x-python",
   "name": "python",
   "nbconvert_exporter": "python",
   "pygments_lexer": "ipython2",
   "version": "2.7.6"
  }
 },
 "nbformat": 4,
 "nbformat_minor": 0
}
