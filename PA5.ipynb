{
 "cells": [
  {
   "cell_type": "code",
   "execution_count": 71,
   "metadata": {
    "collapsed": true
   },
   "outputs": [],
   "source": [
    "import tensorflow as tf\n",
    "import numpy as np"
   ]
  },
  {
   "cell_type": "markdown",
   "source": [
    "## Loading data"
   ],
   "metadata": {
    "collapsed": false
   }
  },
  {
   "cell_type": "code",
   "execution_count": 72,
   "outputs": [],
   "source": [
    "from tensorflow.keras.preprocessing.image import ImageDataGenerator\n",
    "\n",
    "data_gen = ImageDataGenerator(rescale=1.0/255)"
   ],
   "metadata": {
    "collapsed": false
   }
  },
  {
   "cell_type": "code",
   "execution_count": 73,
   "outputs": [
    {
     "name": "stdout",
     "output_type": "stream",
     "text": [
      "Found 1600 images belonging to 2 classes.\n"
     ]
    }
   ],
   "source": [
    "# directory\n",
    "imgdir = 'a5_images'\n",
    "img_size = 64\n",
    "batch_size = 32\n",
    "\n",
    "train_generator = data_gen.flow_from_directory(\n",
    "        imgdir + '/train',\n",
    "        target_size=(img_size, img_size),\n",
    "        batch_size=batch_size,\n",
    "        class_mode='binary',\n",
    "        classes=['other', 'car'],\n",
    "        seed=12345,\n",
    "        shuffle=True)"
   ],
   "metadata": {
    "collapsed": false
   }
  },
  {
   "cell_type": "code",
   "execution_count": 74,
   "outputs": [],
   "source": [
    "Xbatch, Ybatch = train_generator.next()"
   ],
   "metadata": {
    "collapsed": false
   }
  },
  {
   "cell_type": "code",
   "execution_count": 75,
   "outputs": [
    {
     "data": {
      "text/plain": "(32, 64, 64, 3)"
     },
     "execution_count": 75,
     "metadata": {},
     "output_type": "execute_result"
    }
   ],
   "source": [
    "Xbatch.shape"
   ],
   "metadata": {
    "collapsed": false
   }
  },
  {
   "cell_type": "code",
   "execution_count": 76,
   "outputs": [
    {
     "data": {
      "text/plain": "1.0"
     },
     "execution_count": 76,
     "metadata": {},
     "output_type": "execute_result"
    }
   ],
   "source": [
    "Ybatch[4]"
   ],
   "metadata": {
    "collapsed": false
   }
  },
  {
   "cell_type": "code",
   "execution_count": 77,
   "outputs": [
    {
     "data": {
      "text/plain": "<Figure size 640x480 with 1 Axes>",
      "image/png": "[encoded data removed]"
     },
     "metadata": {},
     "output_type": "display_data"
    }
   ],
   "source": [
    "from matplotlib import pyplot as plt\n",
    "\n",
    "plt.imshow(Xbatch[4]);"
   ],
   "metadata": {
    "collapsed": false
   }
  },
  {
   "cell_type": "code",
   "execution_count": 109,
   "outputs": [
    {
     "name": "stdout",
     "output_type": "stream",
     "text": [
      "Found 576 images belonging to 2 classes.\n"
     ]
    }
   ],
   "source": [
    "validation_generator = data_gen.flow_from_directory(\n",
    "        imgdir + '/validation',\n",
    "        target_size=(img_size, img_size),\n",
    "        batch_size=batch_size,\n",
    "        class_mode='binary',\n",
    "        classes=['other', 'car'],\n",
    "        seed=12345,\n",
    "        shuffle=False)"
   ],
   "metadata": {
    "collapsed": false
   }
  },
  {
   "cell_type": "markdown",
   "source": [
    "## Part 1: Training a convolutional neural network"
   ],
   "metadata": {
    "collapsed": false
   }
  },
  {
   "cell_type": "code",
   "execution_count": 79,
   "outputs": [],
   "source": [
    "from tensorflow.keras import datasets, layers, models\n",
    "\n",
    "def make_convnet():\n",
    "    model = models.Sequential()\n",
    "    model.add(layers.Conv2D(64, (3, 3), activation='relu', input_shape=(64, 64, 3), padding=\"same\"))\n",
    "    model.add(layers.MaxPooling2D((2, 2)))\n",
    "    model.add(layers.Conv2D(64, (3, 3), activation='relu', padding=\"same\"))\n",
    "    model.add(layers.MaxPooling2D((2, 2)))\n",
    "    model.add(layers.Conv2D(64, (3, 3), activation='relu', padding=\"same\"))\n",
    "    model.add(layers.MaxPooling2D((2, 2)))\n",
    "    model.add(layers.Conv2D(32, (3, 3), activation='relu', padding=\"same\"))\n",
    "    model.add(layers.Flatten())\n",
    "    model.add(layers.Dense(128, activation='relu'))\n",
    "    model.add(layers.Dropout(rate=0.3))\n",
    "    model.add(layers.Dense(64, activation='relu'))\n",
    "    model.add(layers.Dropout(rate=0.3))\n",
    "    model.add(layers.Dense(1, activation='sigmoid'))\n",
    "\n",
    "    # optimizer\n",
    "    model.compile(optimizer='adam', loss='binary_crossentropy', metrics=['accuracy'])\n",
    "\n",
    "    return model"
   ],
   "metadata": {
    "collapsed": false
   }
  },
  {
   "cell_type": "code",
   "execution_count": 80,
   "outputs": [
    {
     "name": "stdout",
     "output_type": "stream",
     "text": [
      "Model: \"sequential_12\"\n",
      "_________________________________________________________________\n",
      " Layer (type)                Output Shape              Param #   \n",
      "=================================================================\n",
      " conv2d_8 (Conv2D)           (None, 64, 64, 64)        1792      \n",
      "                                                                 \n",
      " max_pooling2d_6 (MaxPooling  (None, 32, 32, 64)       0         \n",
      " 2D)                                                             \n",
      "                                                                 \n",
      " conv2d_9 (Conv2D)           (None, 32, 32, 64)        36928     \n",
      "                                                                 \n",
      " max_pooling2d_7 (MaxPooling  (None, 16, 16, 64)       0         \n",
      " 2D)                                                             \n",
      "                                                                 \n",
      " conv2d_10 (Conv2D)          (None, 16, 16, 64)        36928     \n",
      "                                                                 \n",
      " max_pooling2d_8 (MaxPooling  (None, 8, 8, 64)         0         \n",
      " 2D)                                                             \n",
      "                                                                 \n",
      " conv2d_11 (Conv2D)          (None, 8, 8, 32)          18464     \n",
      "                                                                 \n",
      " flatten_12 (Flatten)        (None, 2048)              0         \n",
      "                                                                 \n",
      " dense_36 (Dense)            (None, 128)               262272    \n",
      "                                                                 \n",
      " dropout_24 (Dropout)        (None, 128)               0         \n",
      "                                                                 \n",
      " dense_37 (Dense)            (None, 64)                8256      \n",
      "                                                                 \n",
      " dropout_25 (Dropout)        (None, 64)                0         \n",
      "                                                                 \n",
      " dense_38 (Dense)            (None, 1)                 65        \n",
      "                                                                 \n",
      "=================================================================\n",
      "Total params: 364,705\n",
      "Trainable params: 364,705\n",
      "Non-trainable params: 0\n",
      "_________________________________________________________________\n"
     ]
    }
   ],
   "source": [
    "cnn_model = make_convnet()\n",
    "cnn_model.summary()"
   ],
   "metadata": {
    "collapsed": false
   }
  },
  {
   "cell_type": "code",
   "execution_count": 81,
   "outputs": [],
   "source": [
    "from tensorflow.keras.callbacks import EarlyStopping\n",
    "\n",
    "nb_epochs = 20\n",
    "\n",
    "# early stopping\n",
    "early_stopping = EarlyStopping(monitor='val_loss', patience=5, restore_best_weights=True)"
   ],
   "metadata": {
    "collapsed": false
   }
  },
  {
   "cell_type": "code",
   "execution_count": 82,
   "outputs": [
    {
     "name": "stdout",
     "output_type": "stream",
     "text": [
      "Epoch 1/20\n",
      "50/50 [==============================] - 13s 227ms/step - loss: 0.6970 - accuracy: 0.5131 - val_loss: 0.6828 - val_accuracy: 0.5260\n",
      "Epoch 2/20\n",
      "50/50 [==============================] - 11s 226ms/step - loss: 0.6757 - accuracy: 0.5669 - val_loss: 0.6262 - val_accuracy: 0.6615\n",
      "Epoch 3/20\n",
      "50/50 [==============================] - 11s 224ms/step - loss: 0.5903 - accuracy: 0.7038 - val_loss: 0.5782 - val_accuracy: 0.7205\n",
      "Epoch 4/20\n",
      "50/50 [==============================] - 11s 216ms/step - loss: 0.5122 - accuracy: 0.7663 - val_loss: 0.4979 - val_accuracy: 0.7778\n",
      "Epoch 5/20\n",
      "50/50 [==============================] - 11s 218ms/step - loss: 0.4589 - accuracy: 0.7931 - val_loss: 0.4969 - val_accuracy: 0.7778\n",
      "Epoch 6/20\n",
      "50/50 [==============================] - 11s 212ms/step - loss: 0.4363 - accuracy: 0.8025 - val_loss: 0.4771 - val_accuracy: 0.7760\n",
      "Epoch 7/20\n",
      "50/50 [==============================] - 11s 215ms/step - loss: 0.3831 - accuracy: 0.8350 - val_loss: 0.5106 - val_accuracy: 0.7691\n",
      "Epoch 8/20\n",
      "50/50 [==============================] - 11s 218ms/step - loss: 0.3485 - accuracy: 0.8537 - val_loss: 0.4821 - val_accuracy: 0.7812\n",
      "Epoch 9/20\n",
      "50/50 [==============================] - 12s 230ms/step - loss: 0.3213 - accuracy: 0.8637 - val_loss: 0.4794 - val_accuracy: 0.7882\n",
      "Epoch 10/20\n",
      "50/50 [==============================] - 11s 214ms/step - loss: 0.3253 - accuracy: 0.8700 - val_loss: 0.5452 - val_accuracy: 0.7656\n",
      "Epoch 11/20\n",
      "50/50 [==============================] - 11s 223ms/step - loss: 0.2716 - accuracy: 0.8925 - val_loss: 0.5468 - val_accuracy: 0.7726\n"
     ]
    }
   ],
   "source": [
    "history = cnn_model.fit(\n",
    "    train_generator,\n",
    "    steps_per_epoch = train_generator.samples // batch_size,\n",
    "    validation_data = validation_generator,\n",
    "    validation_steps = validation_generator.samples // batch_size,\n",
    "    epochs = nb_epochs,\n",
    "    callbacks=early_stopping\n",
    ")"
   ],
   "metadata": {
    "collapsed": false
   }
  },
  {
   "cell_type": "code",
   "execution_count": 83,
   "outputs": [
    {
     "data": {
      "text/plain": "<matplotlib.legend.Legend at 0x1fa85a2c370>"
     },
     "execution_count": 83,
     "metadata": {},
     "output_type": "execute_result"
    },
    {
     "data": {
      "text/plain": "<Figure size 640x480 with 1 Axes>",
      "image/png": "[encoded data removed]"
     },
     "metadata": {},
     "output_type": "display_data"
    }
   ],
   "source": [
    "plt.plot(history.history['accuracy'], label='accuracy')\n",
    "plt.plot(history.history['val_accuracy'], label = 'val_accuracy')\n",
    "plt.xlabel('Epoch')\n",
    "plt.ylabel('Accuracy')\n",
    "plt.ylim([0.5, 1])\n",
    "plt.legend(loc='lower right')"
   ],
   "metadata": {
    "collapsed": false
   }
  },
  {
   "cell_type": "code",
   "execution_count": 84,
   "outputs": [],
   "source": [
    "cnn_model.save_weights(\"cnn_model_PA5\")"
   ],
   "metadata": {
    "collapsed": false
   }
  },
  {
   "cell_type": "markdown",
   "source": [
    "## Part 2: Data augmentation"
   ],
   "metadata": {
    "collapsed": false
   }
  },
  {
   "cell_type": "code",
   "execution_count": 85,
   "outputs": [],
   "source": [
    "data_augmentation_gen = ImageDataGenerator(\n",
    "    rescale=1.0/255,\n",
    "    rotation_range=20,\n",
    "    width_shift_range=0.2,\n",
    "    height_shift_range=0.2,\n",
    "    brightness_range=[0.8,1.2],\n",
    "    fill_mode='nearest',\n",
    "    horizontal_flip=True\n",
    ")"
   ],
   "metadata": {
    "collapsed": false
   }
  },
  {
   "cell_type": "code",
   "execution_count": 86,
   "outputs": [
    {
     "name": "stdout",
     "output_type": "stream",
     "text": [
      "Found 1600 images belonging to 2 classes.\n"
     ]
    }
   ],
   "source": [
    "train_generator_augmentation = data_augmentation_gen.flow_from_directory(\n",
    "        imgdir + '/train',\n",
    "        target_size=(img_size, img_size),\n",
    "        batch_size=batch_size,\n",
    "        class_mode='binary',\n",
    "        classes=['other', 'car'],\n",
    "        seed=12345,\n",
    "        shuffle=True)"
   ],
   "metadata": {
    "collapsed": false
   }
  },
  {
   "cell_type": "code",
   "execution_count": 87,
   "outputs": [
    {
     "name": "stdout",
     "output_type": "stream",
     "text": [
      "Epoch 1/20\n",
      "50/50 [==============================] - 72s 241ms/step - loss: 0.6925 - accuracy: 0.5163 - val_loss: 0.6692 - val_accuracy: 0.5972\n",
      "Epoch 2/20\n",
      "50/50 [==============================] - 12s 240ms/step - loss: 0.6518 - accuracy: 0.6363 - val_loss: 0.7268 - val_accuracy: 0.5017\n",
      "Epoch 3/20\n",
      "50/50 [==============================] - 13s 252ms/step - loss: 0.6611 - accuracy: 0.6256 - val_loss: 0.6376 - val_accuracy: 0.6823\n",
      "Epoch 4/20\n",
      "50/50 [==============================] - 13s 251ms/step - loss: 0.5908 - accuracy: 0.6888 - val_loss: 0.5360 - val_accuracy: 0.7552\n",
      "Epoch 5/20\n",
      "50/50 [==============================] - 12s 243ms/step - loss: 0.5664 - accuracy: 0.7100 - val_loss: 0.5207 - val_accuracy: 0.7465\n",
      "Epoch 6/20\n",
      "50/50 [==============================] - 13s 250ms/step - loss: 0.5153 - accuracy: 0.7544 - val_loss: 0.4956 - val_accuracy: 0.7934\n",
      "Epoch 7/20\n",
      "50/50 [==============================] - 12s 249ms/step - loss: 0.5579 - accuracy: 0.7275 - val_loss: 0.5464 - val_accuracy: 0.7569\n",
      "Epoch 8/20\n",
      "50/50 [==============================] - 12s 241ms/step - loss: 0.5223 - accuracy: 0.7694 - val_loss: 0.4928 - val_accuracy: 0.7639\n",
      "Epoch 9/20\n",
      "50/50 [==============================] - 12s 237ms/step - loss: 0.5103 - accuracy: 0.7613 - val_loss: 0.5107 - val_accuracy: 0.7622\n",
      "Epoch 10/20\n",
      "50/50 [==============================] - 14s 271ms/step - loss: 0.4722 - accuracy: 0.7781 - val_loss: 0.4635 - val_accuracy: 0.7882\n",
      "Epoch 11/20\n",
      "50/50 [==============================] - 14s 288ms/step - loss: 0.4825 - accuracy: 0.7769 - val_loss: 0.5188 - val_accuracy: 0.7604\n",
      "Epoch 12/20\n",
      "50/50 [==============================] - 14s 281ms/step - loss: 0.4644 - accuracy: 0.7881 - val_loss: 0.4657 - val_accuracy: 0.7882\n",
      "Epoch 13/20\n",
      "50/50 [==============================] - 15s 306ms/step - loss: 0.4736 - accuracy: 0.7713 - val_loss: 0.4875 - val_accuracy: 0.7795\n",
      "Epoch 14/20\n",
      "50/50 [==============================] - 14s 290ms/step - loss: 0.4662 - accuracy: 0.7738 - val_loss: 0.4592 - val_accuracy: 0.7969\n",
      "Epoch 15/20\n",
      "50/50 [==============================] - 15s 289ms/step - loss: 0.4645 - accuracy: 0.7975 - val_loss: 0.5159 - val_accuracy: 0.7622\n",
      "Epoch 16/20\n",
      "50/50 [==============================] - 15s 299ms/step - loss: 0.4686 - accuracy: 0.7881 - val_loss: 0.4549 - val_accuracy: 0.7847\n",
      "Epoch 17/20\n",
      "50/50 [==============================] - 15s 292ms/step - loss: 0.4437 - accuracy: 0.7862 - val_loss: 0.4481 - val_accuracy: 0.7865\n",
      "Epoch 18/20\n",
      "50/50 [==============================] - 15s 296ms/step - loss: 0.4414 - accuracy: 0.8044 - val_loss: 0.4324 - val_accuracy: 0.8038\n",
      "Epoch 19/20\n",
      "50/50 [==============================] - 15s 297ms/step - loss: 0.4197 - accuracy: 0.7981 - val_loss: 0.4449 - val_accuracy: 0.7882\n",
      "Epoch 20/20\n",
      "50/50 [==============================] - 15s 308ms/step - loss: 0.4370 - accuracy: 0.8069 - val_loss: 0.4552 - val_accuracy: 0.7882\n"
     ]
    }
   ],
   "source": [
    "cnn_model_aug = make_convnet()\n",
    "\n",
    "history = cnn_model_aug.fit(\n",
    "    train_generator_augmentation,\n",
    "    steps_per_epoch = train_generator.samples // batch_size,\n",
    "    validation_data = validation_generator,\n",
    "    validation_steps = validation_generator.samples // batch_size,\n",
    "    epochs = nb_epochs,\n",
    "    callbacks=early_stopping\n",
    ")"
   ],
   "metadata": {
    "collapsed": false
   }
  },
  {
   "cell_type": "markdown",
   "source": [
    "## Applying a pre-trained convolutional neural network"
   ],
   "metadata": {
    "collapsed": false
   }
  },
  {
   "cell_type": "code",
   "execution_count": 88,
   "outputs": [],
   "source": [
    "from tensorflow.keras import applications\n",
    "from tensorflow.keras.preprocessing.image import load_img, img_to_array\n",
    "from tensorflow.keras.applications.vgg16 import decode_predictions, preprocess_input\n",
    "\n",
    "vggmodel = applications.VGG16(weights='imagenet', include_top=True)"
   ],
   "metadata": {
    "collapsed": false
   }
  },
  {
   "cell_type": "code",
   "execution_count": 89,
   "outputs": [],
   "source": [
    "image = load_img(\"a5_images/validation/car/0000.jpg\", target_size=(224,224))\n",
    "\n",
    "image = img_to_array(image)\n",
    "\n",
    "image = preprocess_input(image)\n",
    "\n",
    "image = image.reshape(1, 224, 224, 3)"
   ],
   "metadata": {
    "collapsed": false
   }
  },
  {
   "cell_type": "code",
   "execution_count": 90,
   "outputs": [
    {
     "name": "stdout",
     "output_type": "stream",
     "text": [
      "1/1 [==============================] - 0s 498ms/step\n",
      "[[('n03594945', 'jeep', 0.92140687), ('n04252225', 'snowplow', 0.024327194), ('n03445924', 'golfcart', 0.014407215), ('n03930630', 'pickup', 0.012664959), ('n03478589', 'half_track', 0.005270822)]]\n"
     ]
    }
   ],
   "source": [
    "prediction = vggmodel.predict(image)\n",
    "\n",
    "prediction = decode_predictions(prediction)\n",
    "print(prediction)"
   ],
   "metadata": {
    "collapsed": false
   }
  },
  {
   "cell_type": "markdown",
   "source": [
    "## Part 3: Using VGG-16 as a feature extractor"
   ],
   "metadata": {
    "collapsed": false
   }
  },
  {
   "cell_type": "code",
   "execution_count": 91,
   "outputs": [],
   "source": [
    "feature_extractor = applications.VGG16(\n",
    "    include_top=False,\n",
    "    weights='imagenet',\n",
    "    input_shape=(img_size, img_size, 3)\n",
    ")"
   ],
   "metadata": {
    "collapsed": false
   }
  },
  {
   "cell_type": "code",
   "execution_count": 92,
   "outputs": [],
   "source": [
    "vgg_data_gen = ImageDataGenerator(preprocessing_function=preprocess_input)"
   ],
   "metadata": {
    "collapsed": false
   }
  },
  {
   "cell_type": "code",
   "execution_count": 112,
   "outputs": [
    {
     "name": "stdout",
     "output_type": "stream",
     "text": [
      "Found 1600 images belonging to 2 classes.\n",
      "Found 576 images belonging to 2 classes.\n"
     ]
    }
   ],
   "source": [
    "train_generator_vgg = vgg_data_gen.flow_from_directory(\n",
    "    imgdir + '/train',\n",
    "    target_size=(img_size, img_size),\n",
    "    batch_size=batch_size,\n",
    "    class_mode='binary',\n",
    "    classes=['other', 'car'],\n",
    "    seed=12345,\n",
    "    shuffle=False\n",
    ")\n",
    "\n",
    "validation_generator_vgg = vgg_data_gen.flow_from_directory(\n",
    "    imgdir + '/validation',\n",
    "    target_size=(img_size, img_size),\n",
    "    batch_size=batch_size,\n",
    "    class_mode='binary',\n",
    "    classes=['other', 'car'],\n",
    "    seed=12345,\n",
    "    shuffle=False\n",
    ")\n",
    "\n",
    "def create_vgg16_features():\n",
    "    cnn_features_train = feature_extractor.predict(train_generator_vgg)\n",
    "    cnn_features_validation = feature_extractor.predict(validation_generator_vgg)\n",
    "\n",
    "    with open(\"cnn_features_train\", 'wb') as f:\n",
    "        np.save(f, cnn_features_train)\n",
    "    with open(\"cnn_features_validation\", 'wb') as f:\n",
    "        np.save(f, cnn_features_validation)\n",
    "\n"
   ],
   "metadata": {
    "collapsed": false
   }
  },
  {
   "cell_type": "code",
   "execution_count": 113,
   "outputs": [],
   "source": [
    "def get_labels(n):\n",
    "    return np.array([0]*(n//2) + [1]*(n//2))"
   ],
   "metadata": {
    "collapsed": false
   }
  },
  {
   "cell_type": "code",
   "execution_count": 114,
   "outputs": [],
   "source": [
    "def train_on_cnnfeatures():\n",
    "    with open(\"cnn_features_train\", 'rb') as f:\n",
    "        train_data = np.load(f)\n",
    "    with open(\"cnn_features_validation\", 'rb') as f:\n",
    "        validation_data = np.load(f)\n",
    "\n",
    "\n",
    "    model = models.Sequential()\n",
    "    model.add(layers.Flatten())\n",
    "    model.add(layers.Dense(128, activation='relu'))\n",
    "    model.add(layers.Dropout(rate=0.3))\n",
    "    model.add(layers.Dense(64, activation='relu'))\n",
    "    model.add(layers.Dropout(rate=0.3))\n",
    "    model.add(layers.Dense(1, activation='sigmoid'))\n",
    "\n",
    "    model.compile(optimizer='adam', loss='binary_crossentropy', metrics=['accuracy'])\n",
    "\n",
    "    history = model.fit(\n",
    "        x=train_data,\n",
    "        y=get_labels(1600),\n",
    "        steps_per_epoch = train_generator.samples // batch_size,\n",
    "        validation_data = (validation_data, get_labels(576)),\n",
    "        validation_steps = validation_generator.samples // batch_size,\n",
    "        epochs = 100,\n",
    "        callbacks=early_stopping\n",
    "    )\n",
    "\n",
    "    return model, history"
   ],
   "metadata": {
    "collapsed": false
   }
  },
  {
   "cell_type": "code",
   "execution_count": 115,
   "outputs": [
    {
     "name": "stdout",
     "output_type": "stream",
     "text": [
      "50/50 [==============================] - 21s 416ms/step\n",
      "18/18 [==============================] - 8s 430ms/step\n"
     ]
    }
   ],
   "source": [
    "create_vgg16_features()"
   ],
   "metadata": {
    "collapsed": false
   }
  },
  {
   "cell_type": "code",
   "execution_count": 116,
   "outputs": [
    {
     "name": "stdout",
     "output_type": "stream",
     "text": [
      "Epoch 1/100\n",
      "50/50 [==============================] - 1s 9ms/step - loss: 2.3694 - accuracy: 0.7819 - val_loss: 0.6725 - val_accuracy: 0.8646\n",
      "Epoch 2/100\n",
      "50/50 [==============================] - 0s 9ms/step - loss: 0.6330 - accuracy: 0.8788 - val_loss: 0.4112 - val_accuracy: 0.8993\n",
      "Epoch 3/100\n",
      "50/50 [==============================] - 0s 7ms/step - loss: 0.5167 - accuracy: 0.9031 - val_loss: 0.4820 - val_accuracy: 0.8889\n",
      "Epoch 4/100\n",
      "50/50 [==============================] - 0s 7ms/step - loss: 0.3801 - accuracy: 0.9156 - val_loss: 0.3904 - val_accuracy: 0.8924\n",
      "Epoch 5/100\n",
      "50/50 [==============================] - 0s 7ms/step - loss: 0.2275 - accuracy: 0.9388 - val_loss: 0.4677 - val_accuracy: 0.9115\n",
      "Epoch 6/100\n",
      "50/50 [==============================] - 0s 7ms/step - loss: 0.1625 - accuracy: 0.9606 - val_loss: 0.4510 - val_accuracy: 0.9080\n",
      "Epoch 7/100\n",
      "50/50 [==============================] - 0s 8ms/step - loss: 0.1237 - accuracy: 0.9625 - val_loss: 0.4272 - val_accuracy: 0.9045\n",
      "Epoch 8/100\n",
      "50/50 [==============================] - 0s 7ms/step - loss: 0.1451 - accuracy: 0.9663 - val_loss: 0.4609 - val_accuracy: 0.8993\n",
      "Epoch 9/100\n",
      "50/50 [==============================] - 0s 7ms/step - loss: 0.1038 - accuracy: 0.9688 - val_loss: 0.5683 - val_accuracy: 0.8941\n"
     ]
    },
    {
     "data": {
      "text/plain": "<matplotlib.legend.Legend at 0x1fa6ae9ee80>"
     },
     "execution_count": 116,
     "metadata": {},
     "output_type": "execute_result"
    },
    {
     "data": {
      "text/plain": "<Figure size 640x480 with 1 Axes>",
      "image/png": "[encoded data removed]"
     },
     "metadata": {},
     "output_type": "display_data"
    }
   ],
   "source": [
    "cnnfeatures_model, history = train_on_cnnfeatures()\n",
    "\n",
    "plt.plot(history.history['accuracy'], label='accuracy')\n",
    "plt.plot(history.history['val_accuracy'], label = 'val_accuracy')\n",
    "plt.xlabel('Epoch')\n",
    "plt.ylabel('Accuracy')\n",
    "plt.ylim([0.5, 1])\n",
    "plt.legend(loc='lower right')"
   ],
   "metadata": {
    "collapsed": false
   }
  },
  {
   "cell_type": "code",
   "execution_count": 97,
   "outputs": [],
   "source": [],
   "metadata": {
    "collapsed": false
   }
  },
  {
   "cell_type": "code",
   "execution_count": 97,
   "outputs": [],
   "source": [],
   "metadata": {
    "collapsed": false
   }
  },
  {
   "cell_type": "markdown",
   "source": [
    "## Performances"
   ],
   "metadata": {
    "collapsed": false
   }
  },
  {
   "cell_type": "code",
   "execution_count": 123,
   "outputs": [
    {
     "name": "stdout",
     "output_type": "stream",
     "text": [
      "18/18 [==============================] - 1s 61ms/step\n",
      "Accuracy: 0.7760.\n",
      "18/18 [==============================] - 1s 53ms/step\n",
      "Accuracy: 0.7882.\n",
      "18/18 [==============================] - 0s 959us/step\n",
      "Accuracy: 0.8924.\n"
     ]
    }
   ],
   "source": [
    "from sklearn.metrics import accuracy_score\n",
    "\n",
    "# basic cnn model\n",
    "prediction = cnn_model.predict(validation_generator)\n",
    "cnn_performance = accuracy_score(validation_generator.labels, prediction>0.5)\n",
    "print('Accuracy: {:.4f}.'.format(cnn_performance))\n",
    "\n",
    "# basic cnn model trained with data augmentation\n",
    "prediction = cnn_model_aug.predict(validation_generator)\n",
    "data_aug_performance = accuracy_score(validation_generator.labels, prediction>0.5)\n",
    "print('Accuracy: {:.4f}.'.format(data_aug_performance))\n",
    "\n",
    "# vgg feature extractor\n",
    "with open(\"cnn_features_validation\", 'rb') as f:\n",
    "        validation_data = np.load(f)\n",
    "prediction = cnnfeatures_model.predict(validation_data)\n",
    "vgg_performance = accuracy_score(get_labels(576), prediction>0.5)\n",
    "print('Accuracy: {:.4f}.'.format(vgg_performance))"
   ],
   "metadata": {
    "collapsed": false
   }
  },
  {
   "cell_type": "code",
   "execution_count": 128,
   "outputs": [
    {
     "data": {
      "text/plain": "<Figure size 640x480 with 1 Axes>",
      "image/png": "[encoded data removed]"
     },
     "metadata": {},
     "output_type": "display_data"
    }
   ],
   "source": [
    "import matplotlib.pyplot as plt\n",
    "\n",
    "f, ax = plt.subplots()\n",
    "b = ax.bar([1, 2, 3], [cnn_performance, data_aug_performance, vgg_performance], width=0.8)\n",
    "ax.bar_label(b, labels=['CNN', 'CNN with data aug', 'vgg feature extractor'], padding=5)\n",
    "ax.spines[['right', 'top', 'bottom']].set_visible(False)\n",
    "ax.get_xaxis().set_visible(False)"
   ],
   "metadata": {
    "collapsed": false
   }
  },
  {
   "cell_type": "markdown",
   "source": [
    "## Part 4: Visualizing the learned features"
   ],
   "metadata": {
    "collapsed": false
   }
  },
  {
   "cell_type": "code",
   "execution_count": 99,
   "outputs": [
    {
     "data": {
      "text/plain": "(3, 3, 3, 64)"
     },
     "execution_count": 99,
     "metadata": {},
     "output_type": "execute_result"
    }
   ],
   "source": [
    "first_layer_weights = vggmodel.get_weights()[0]\n",
    "first_layer_weights.shape"
   ],
   "metadata": {
    "collapsed": false
   }
  },
  {
   "cell_type": "code",
   "execution_count": 100,
   "outputs": [],
   "source": [
    "def kernel_image(weights, i, positive):\n",
    "\n",
    "    # extract the convolutional kernel at position i\n",
    "    k = weights[:,:,:,i].copy()\n",
    "    if not positive:\n",
    "        k = -k\n",
    "\n",
    "    # clip the values: if we're looking for positive\n",
    "    # values, just keep the positive part; vice versa\n",
    "    # for the negative values.\n",
    "    k *= k > 0\n",
    "\n",
    "    # rescale the colors, to make the images less dark\n",
    "    m = k.max()\n",
    "    if m > 1e-3:\n",
    "        k /= m\n",
    "\n",
    "    return k"
   ],
   "metadata": {
    "collapsed": false
   }
  },
  {
   "cell_type": "code",
   "execution_count": 101,
   "outputs": [
    {
     "data": {
      "text/plain": "<Figure size 1000x1000 with 64 Axes>",
      "image/png": "[encoded data removed]"
     },
     "metadata": {},
     "output_type": "display_data"
    }
   ],
   "source": [
    "plt.figure(figsize=(10,10))\n",
    "for i in range(first_layer_weights.shape[3]):\n",
    "    plt.subplot(8,8,i+1)\n",
    "    plt.xticks([])\n",
    "    plt.yticks([])\n",
    "    plt.grid(False)\n",
    "    plt.imshow(kernel_image(first_layer_weights, i, True))\n",
    "plt.show()"
   ],
   "metadata": {
    "collapsed": false
   }
  },
  {
   "cell_type": "code",
   "execution_count": 101,
   "outputs": [],
   "source": [],
   "metadata": {
    "collapsed": false
   }
  },
  {
   "cell_type": "code",
   "execution_count": 101,
   "outputs": [],
   "source": [],
   "metadata": {
    "collapsed": false
   }
  }
 ],
 "metadata": {
  "kernelspec": {
   "display_name": "Python 3",
   "language": "python",
   "name": "python3"
  },
  "language_info": {
   "codemirror_mode": {
    "name": "ipython",
    "version": 2
   },
   "file_extension": ".py",
   "mimetype": "text/x-python",
   "name": "python",
   "nbconvert_exporter": "python",
   "pygments_lexer": "ipython2",
   "version": "2.7.6"
  }
 },
 "nbformat": 4,
 "nbformat_minor": 0
}
